{
  "cells": [
    {
      "cell_type": "markdown",
      "metadata": {
        "id": "8V7FniGUOOUK"
      },
      "source": [
        "#Connect to Google Drive"
      ]
    },
    {
      "cell_type": "code",
      "execution_count": null,
      "metadata": {
        "id": "TpCDPpcz1-O1"
      },
      "outputs": [],
      "source": [
        "from google.colab import drive\n",
        "\n",
        "# Mount Google Drive\n",
        "drive.mount('/content/drive')\n",
        "%cd /content/drive/MyDrive/Colab\\ Notebooks/"
      ]
    },
    {
      "cell_type": "markdown",
      "metadata": {
        "id": "M--7F690OSkK"
      },
      "source": [
        "#Pip install requirements"
      ]
    },
    {
      "cell_type": "code",
      "execution_count": null,
      "metadata": {
        "id": "v_Yb0dHr2Msf"
      },
      "outputs": [],
      "source": [
        "!pip install opencv-python numpy ipython roboflow torch pyyaml ultralytics"
      ]
    },
    {
      "cell_type": "markdown",
      "metadata": {
        "id": "dmxe8UZaOVA7"
      },
      "source": [
        "#Get the imports"
      ]
    },
    {
      "cell_type": "code",
      "execution_count": null,
      "metadata": {
        "id": "JeCZqrCI2KzN"
      },
      "outputs": [],
      "source": [
        "import os\n",
        "import cv2\n",
        "import numpy as np\n",
        "import shutil\n",
        "\n",
        "from IPython import display\n",
        "from IPython.display import display, Image, clear_output\n",
        "\n",
        "from roboflow import Roboflow\n",
        "import torch\n",
        "import yaml"
      ]
    },
    {
      "cell_type": "markdown",
      "metadata": {
        "id": "yYQ5e8pQOYad"
      },
      "source": [
        "#Get the Yolo model"
      ]
    },
    {
      "cell_type": "code",
      "execution_count": null,
      "metadata": {
        "id": "4_jgjNSz2A6J"
      },
      "outputs": [],
      "source": [
        "# Set HOME to get your current working directory\n",
        "HOME = os.getcwd()\n",
        "\n",
        "# Download the YOLO model\n",
        "%cd {HOME}\n",
        "!git clone https://github.com/ultralytics/ultralytics.git\n",
        "%cd {HOME}/ultralytics\n",
        "!pip install -e ."
      ]
    },
    {
      "cell_type": "markdown",
      "metadata": {
        "id": "6visbl0XObDv"
      },
      "source": [
        "#Get the dataset from Roboflow"
      ]
    },
    {
      "cell_type": "code",
      "execution_count": null,
      "metadata": {
        "id": "VTePa6q53mp2"
      },
      "outputs": [],
      "source": [
        "# Making and moving into 'datasets' directory\n",
        "os.makedirs(f'{HOME}/datasets', exist_ok=True)\n",
        "%cd {HOME}/datasets\n",
        "\n",
        "# Get dataset from roboflow\n",
        "from roboflow import Roboflow\n",
        "rf = Roboflow(api_key=\"socUkpgBT4KYDhbiU16Z\")\n",
        "project = rf.workspace(\"osha-violations\").project(\"osha\")\n",
        "dataset = project.version(1).download(\"yolov12\")"
      ]
    },
    {
      "cell_type": "markdown",
      "metadata": {
        "id": "eqwzmxclOmYS"
      },
      "source": [
        "#Convert the folders for use"
      ]
    },
    {
      "cell_type": "code",
      "execution_count": null,
      "metadata": {
        "id": "f6LBTc7t9_Xx"
      },
      "outputs": [],
      "source": [
        "def get_next_folder(base_name):\n",
        "    index = 1\n",
        "    while os.path.exists(f'{base_name}-{index}'):\n",
        "        index += 1\n",
        "    return f'{base_name}-{index}'\n",
        "\n",
        "train_folder_name = get_next_folder('train')\n",
        "predict_folder_name = get_next_folder('predict')\n",
        "val_folder_name = get_next_folder('val')"
      ]
    },
    {
      "cell_type": "markdown",
      "metadata": {
        "id": "tFTKoxXiOpDg"
      },
      "source": [
        "#Get folder path and check if gpu is available"
      ]
    },
    {
      "cell_type": "code",
      "execution_count": null,
      "metadata": {
        "id": "Mrn8eMKb2rAx"
      },
      "outputs": [],
      "source": [
        "# Get gpu for training if it exists\n",
        "device = torch.device(\"cuda\" if torch.cuda.is_available() else \"cpu\")\n",
        "\n",
        "folder_path = f'{HOME}/datasets/{train_folder_name}/{train_folder_name}'\n",
        "\n",
        "# Check if the folder exists, then delete it\n",
        "if os.path.exists(folder_path):\n",
        "    shutil.rmtree(folder_path)\n",
        "    print(f\"Folder '{folder_path}' has been deleted.\")"
      ]
    },
    {
      "cell_type": "markdown",
      "metadata": {
        "id": "Z5iUsx6OOxwc"
      },
      "source": [
        "#Prepare YAML file"
      ]
    },
    {
      "cell_type": "code",
      "execution_count": null,
      "metadata": {
        "id": "c1d8e59b"
      },
      "outputs": [],
      "source": [
        "# Get a YAML file ready\n",
        "file_path = '../datasets/OSHA-1/data.yaml'\n",
        "\n",
        "# Open YAML\n",
        "with open(file_path, 'r') as file:\n",
        "    data = yaml.safe_load(file)\n",
        "\n",
        "# Modify the 'train' and 'val' paths\n",
        "data['train'] = 'train/images'\n",
        "data['val'] = 'valid/images'\n",
        "\n",
        "# Save YAML\n",
        "with open(file_path, 'w') as file:\n",
        "    yaml.dump(data, file)\n",
        "\n",
        "print(\"YAML file updated successfully!\")\n",
        "print({train_folder_name})"
      ]
    },
    {
      "cell_type": "markdown",
      "metadata": {
        "id": "rvQCeF6fO1hC"
      },
      "source": [
        "#Get latest version of ultralytics"
      ]
    },
    {
      "cell_type": "code",
      "execution_count": null,
      "metadata": {
        "id": "vXXJJJ4mKAT2"
      },
      "outputs": [],
      "source": [
        "!pip install --upgrade ultralytics"
      ]
    },
    {
      "cell_type": "markdown",
      "metadata": {
        "id": "LEJ3dribO--N"
      },
      "source": [
        "#Get the YOLO12 Model"
      ]
    },
    {
      "cell_type": "code",
      "execution_count": null,
      "metadata": {
        "id": "bTLINn1zOnyz"
      },
      "outputs": [],
      "source": [
        "from ultralytics import YOLO\n",
        "model = YOLO(f'{HOME}/yolov12m.pt')"
      ]
    },
    {
      "cell_type": "markdown",
      "metadata": {
        "id": "7-euSRkLPB5g"
      },
      "source": [
        "#Start training the model"
      ]
    },
    {
      "cell_type": "code",
      "execution_count": null,
      "metadata": {
        "id": "EDlqAkvp-Je3"
      },
      "outputs": [],
      "source": [
        "model.train(\n",
        "   data=f'{HOME}/datasets/OSHA-1/data.yaml',  # Path to data.yaml\n",
        "   epochs=60,  # Number of epochs\n",
        "   imgsz=640,   # Image size\n",
        "   batch=16,    # Batch size\n",
        "   name=f'{train_folder_name}',  # Name for this training run\n",
        "   project=f'{train_folder_name}',  # Save directory\n",
        "   workers=12,   # Number of workers for data loading\n",
        "   device=device,  # Set the correct device (MPS, CUDA, or CPU)\n",
        ")"
      ]
    },
    {
      "cell_type": "markdown",
      "metadata": {
        "id": "1-E4o9_OPJtb"
      },
      "source": [
        "#Save the model"
      ]
    },
    {
      "cell_type": "code",
      "execution_count": null,
      "metadata": {
        "id": "SJ7H2rbYTcMw"
      },
      "outputs": [],
      "source": [
        "# Save the model and the results\n",
        "model = YOLO(f'{HOME}/datasets/{train_folder_name}/{train_folder_name}/weights/best.pt')\n",
        "save_dir = os.path.join(f'{HOME}/ultralytics/runs/detect', val_folder_name)  # Changed from segment to detect\n",
        "val_folder_name = get_next_folder('val')\n",
        "model.val(data=f'{dataset.location}/data.yaml', save_dir=save_dir)"
      ]
    },
    {
      "cell_type": "markdown",
      "metadata": {
        "id": "M7eP_CQqPM6T"
      },
      "source": [
        "#Display results of training"
      ]
    },
    {
      "cell_type": "code",
      "execution_count": null,
      "metadata": {
        "id": "7rjKK9NhTg-k"
      },
      "outputs": [],
      "source": [
        "# Display the results for the training data\n",
        "display(Image(filename=f\"{HOME}/datasets/{train_folder_name}/{train_folder_name}/val_batch0_pred.jpg\", width=600))"
      ]
    }
  ],
  "metadata": {
    "accelerator": "GPU",
    "colab": {
      "gpuType": "T4",
      "provenance": []
    },
    "kernelspec": {
      "display_name": "Python 3",
      "name": "python3"
    },
    "language_info": {
      "name": "python"
    }
  },
  "nbformat": 4,
  "nbformat_minor": 0
}
